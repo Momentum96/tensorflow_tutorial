{
 "cells": [
  {
   "cell_type": "markdown",
   "metadata": {},
   "source": [
    "- <a href=\"https://www.kaggle.com/chapagain/titanic-solution-a-beginner-s-guide/notebook\">Mukesh ChapagainTitanic Solution: A Beginner's Guide</a>\n",
    "- <a href=\"https://ahmedbesbes.com/how-to-score-08134-in-titanic-kaggle-challenge.html\">How to score 0.8134 in Titanic Kaggle Challenge</a>\n",
    "- <a href=\"https://olegleyz.github.io/titanic_factors.html\">Titanic: factors to survive</a>"
   ]
  },
  {
   "cell_type": "code",
   "execution_count": null,
   "metadata": {},
   "outputs": [],
   "source": []
  }
 ],
 "metadata": {
  "kernelspec": {
   "display_name": "Python 3",
   "language": "python",
   "name": "python3"
  },
  "language_info": {
   "codemirror_mode": {
    "name": "ipython",
    "version": 3
   },
   "file_extension": ".py",
   "mimetype": "text/x-python",
   "name": "python",
   "nbconvert_exporter": "python",
   "pygments_lexer": "ipython3",
   "version": "3.5.2"
  }
 },
 "nbformat": 4,
 "nbformat_minor": 2
}
