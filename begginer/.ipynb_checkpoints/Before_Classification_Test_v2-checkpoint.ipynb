{
 "cells": [
  {
   "cell_type": "code",
   "execution_count": 1,
   "metadata": {},
   "outputs": [],
   "source": [
    "# Classification을 위한 기준 확립\n",
    "# 자연광 데이터의 시간에 따른 변화율 확인 후 그 틀에서 벗어나고 벗어나지 않음에 따라 결정\n",
    "import numpy as np\n",
    "import matplotlib as mpl\n",
    "import matplotlib.pyplot as plt\n",
    "import matplotlib.font_manager as fm\n",
    "import os\n",
    "import sys\n",
    "\n",
    "mpl.rcParams['axes.unicode_minus'] = False\n",
    "\n",
    "if \"DISPLAY\" not in  os.environ:\n",
    "    matplotlib.use('Agg')"
   ]
  },
  {
   "cell_type": "code",
   "execution_count": 2,
   "metadata": {},
   "outputs": [],
   "source": [
    "# raw data 가져오고 y라는 배열 내에 저장 후 확인차 출력\n",
    "\n",
    "import_y = np.loadtxt('./classification_v2/ForClassification_v2.csv', delimiter=',')\n",
    "y = []\n",
    "# cnt = 날짜 번째 입력\n",
    "# cnt = 2\n",
    "cnt = int(sys.argv[1])\n",
    "\n",
    "for i in range(772):\n",
    "    y.append(import_y[i+772*cnt])\n",
    "\n",
    "# print(y)"
   ]
  },
  {
   "cell_type": "code",
   "execution_count": 3,
   "metadata": {},
   "outputs": [],
   "source": [
    "# 변화량을 알아보기 위해 두 데이터의 차를 delta_y에 저장 및 확인 차 출력\n",
    "\n",
    "delta_y = []\n",
    "\n",
    "for i in range(len(y)-1):\n",
    "    delta_y.append(y[i+1] - y[i])\n",
    "    \n",
    "# print(delta_y)"
   ]
  },
  {
   "cell_type": "code",
   "execution_count": 4,
   "metadata": {},
   "outputs": [
    {
     "name": "stdout",
     "output_type": "stream",
     "text": [
      "-f   /run/user/1000/jupyter/kernel-4101fa33-959f-4786-a379-61c364eb1b0a.json\n"
     ]
    }
   ],
   "source": [
    "print(sys.argv[1], \" \" , sys.argv[2])"
   ]
  },
  {
   "cell_type": "code",
   "execution_count": 6,
   "metadata": {},
   "outputs": [
    {
     "ename": "SyntaxError",
     "evalue": "invalid syntax (<ipython-input-6-adf2d83e1275>, line 36)",
     "output_type": "error",
     "traceback": [
      "\u001b[0;36m  File \u001b[0;32m\"<ipython-input-6-adf2d83e1275>\"\u001b[0;36m, line \u001b[0;32m36\u001b[0m\n\u001b[0;31m    fig.savefig('../../사진/자연광 데이터 분류 표본/기준 찾기/'str(sys.argv[2]) + '.png')\u001b[0m\n\u001b[0m                                                 ^\u001b[0m\n\u001b[0;31mSyntaxError\u001b[0m\u001b[0;31m:\u001b[0m invalid syntax\n"
     ]
    }
   ],
   "source": [
    "plt.rcParams['font.family'] = 'NanumGothicCoding'\n",
    "plt.rcParams['font.size'] = 10\n",
    "\n",
    "fig = plt.figure()\n",
    "y_data = fig.add_subplot(2, 1, 1)\n",
    "delta_y_data = fig.add_subplot(2, 1, 2)\n",
    "\n",
    "# 선\n",
    "# y_data.plot(y, 'r')\n",
    "delta_y_data.plot(delta_y, 'g')\n",
    "\n",
    "# 점\n",
    "x = np.arange(1, 773)\n",
    "y_data.scatter(x, y, s = 2, c = 'r')\n",
    "\n",
    "# x = np.arange(1, 772)\n",
    "# delta_y_data.scatter(x, delta_y,s = 2, c = 'g')\n",
    "\n",
    "y_data.set_title('UVI')\n",
    "delta_y_data.set_title('UVI의 변화율')\n",
    "\n",
    "y_data.grid(True)\n",
    "delta_y_data.grid(True)\n",
    "\n",
    "# fig.suptitle('2017-04-21', fontsize=20)\n",
    "fig.suptitle(str(sys.argv[2]), fontsize=20)\n",
    "\n",
    "y_data.set_xlabel('index')\n",
    "delta_y_data.set_xlabel('index')\n",
    "\n",
    "y_data.set_ylabel('UVI')\n",
    "delta_y_data.set_ylabel('y2 - y1')\n",
    "\n",
    "fig = plt.gcf()\n",
    "plt.show()\n",
    "fig.savefig('../../사진/자연광 데이터 분류 표본/기준 찾기/UVI/' + str(sys.argv[2]) + '.png')\n",
    "\n",
    "# plt.title('2017-04-13의 조도의 변화율')\n",
    "# plt.plot(delta_y, label='조도 변화율')\n",
    "# plt.xlabel(\"시간 간격\")\n",
    "# plt.ylabel(\"y2 - y1\")\n",
    "# plt.grid(True)\n",
    "# plt.legend(loc='upper right')\n",
    "# plt.show()"
   ]
  },
  {
   "cell_type": "code",
   "execution_count": null,
   "metadata": {},
   "outputs": [],
   "source": []
  }
 ],
 "metadata": {
  "kernelspec": {
   "display_name": "Python 3",
   "language": "python",
   "name": "python3"
  },
  "language_info": {
   "codemirror_mode": {
    "name": "ipython",
    "version": 3
   },
   "file_extension": ".py",
   "mimetype": "text/x-python",
   "name": "python",
   "nbconvert_exporter": "python",
   "pygments_lexer": "ipython3",
   "version": "3.5.2"
  }
 },
 "nbformat": 4,
 "nbformat_minor": 2
}
