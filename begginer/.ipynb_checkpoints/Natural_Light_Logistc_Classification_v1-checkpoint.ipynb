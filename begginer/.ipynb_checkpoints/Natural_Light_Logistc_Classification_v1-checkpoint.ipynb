{
 "cells": [
  {
   "cell_type": "code",
   "execution_count": 1,
   "metadata": {},
   "outputs": [],
   "source": [
    "import tensorflow as tf\n",
    "tf.set_random_seed(777)\n",
    "import numpy as np\n",
    "import os\n",
    "from sklearn.preprocessing import MinMaxScaler"
   ]
  },
  {
   "cell_type": "code",
   "execution_count": 2,
   "metadata": {},
   "outputs": [
    {
     "name": "stdout",
     "output_type": "stream",
     "text": [
      "(88, 772)\n"
     ]
    }
   ],
   "source": [
    "# 색온도 데이터 가져오기\n",
    "# cct 배열에 저장\n",
    "\n",
    "import_data = np.loadtxt('./v5data/train_v5_data.csv', delimiter=',')\n",
    "import_cct = import_data[:, 0]\n",
    "\n",
    "cct = []\n",
    "\n",
    "for i in range(88):\n",
    "    cct.append(import_cct[i*772:(i+1)*772])\n",
    "    \n",
    "print(np.shape(cct))"
   ]
  },
  {
   "cell_type": "code",
   "execution_count": 3,
   "metadata": {},
   "outputs": [
    {
     "name": "stdout",
     "output_type": "stream",
     "text": [
      "88\n",
      "772\n",
      "[0.04071554 0.14450867 0.04436557 0.0277585  0.06257822]\n"
     ]
    }
   ],
   "source": [
    "# 분별 색온도의 변화율 계산\n",
    "# delta_cct에 저장\n",
    "\n",
    "delta_cct = []\n",
    "\n",
    "print(len(cct))\n",
    "print(len(cct[0]))\n",
    "\n",
    "for i in range(len(cct)):\n",
    "    temp = []\n",
    "    for j in range(771):\n",
    "        temp.append((int)(cct[i][j+1] - cct[i][j]))\n",
    "    delta_cct.append(temp)\n",
    "    \n",
    "usedata = []\n",
    "scaler = MinMaxScaler(feature_range=(0, 10))\n",
    "    \n",
    "for i in range(len(delta_cct)):\n",
    "    temp = []\n",
    "    for j in range(5):\n",
    "        temp.append(abs(delta_cct[i][154*j]))\n",
    "    usedata.append(temp)\n",
    "    \n",
    "train_data = scaler.fit_transform(usedata)\n",
    "\n",
    "print(train_data[1])"
   ]
  },
  {
   "cell_type": "code",
   "execution_count": 4,
   "metadata": {},
   "outputs": [],
   "source": [
    "# 학습시킬 색온도 데이터 분별하여 라벨링\n",
    "# x_data = 색온도 변화율 데이터\n",
    "# y_data = 흐린날, 맑은날 (0, 1)\n",
    "# 맑은날 8, 흐린날 8\n",
    "\n",
    "#\n",
    "\n",
    "x_data = [train_data[8], train_data[19], train_data[42], train_data[54], train_data[57], train_data[66], train_data[78], train_data[83], train_data[11], train_data[16],\n",
    "         train_data[17], train_data[18], train_data[21], train_data[22], train_data[24], train_data[26]]\n",
    "y_data = [[1],[1],[1],[1],[1],[1],[1],[1],[0],[0],[0],[0],[0],[0],[0],[0]]\n",
    "\n",
    "test_x_data = [train_data[0], train_data[1], train_data[2], train_data[3], train_data[4], train_data[5], train_data[6], train_data[7]]\n",
    "test_y_data = [[1], [1], [0], [0], [1], [1], [0], [1]]\n",
    "\n",
    "# x_data = [[-1, 4, -7, -5, -14], [-60, 13, 2, 18, -9], [-38, 14, 6, 10, -12], [-21, 692, 652, 1, -4]]\n",
    "# y_data= [[1], [1],  [0], [0]]\n",
    "\n",
    "# x_data = [train_data[8], train_data[19], train_data[17], train_data[18]]\n",
    "# y_data = [[1], [1], [0], [0]]\n",
    "\n",
    "X = tf.placeholder(tf.float32, shape=[None, 5])\n",
    "Y = tf.placeholder(tf.float32, shape=[None, 1])\n",
    "\n",
    "W = tf.Variable(tf.random_normal([5, 1]), name='weight')\n",
    "b = tf.Variable(tf.random_normal([1]), name='bias')\n",
    "\n",
    "H = tf.sigmoid(tf.matmul(X, W) + b)\n",
    "\n",
    "cost = -tf.reduce_mean(Y * tf.log(H) + (1 - Y) * tf.log(1 - H))\n",
    "\n",
    "train = tf.train.GradientDescentOptimizer(learning_rate = 0.001).minimize(cost)\n",
    "\n",
    "predicted = tf.cast(H > 0.5, dtype=tf.float32)\n",
    "accuracy = tf.reduce_mean(tf.cast(tf.equal(predicted, Y), dtype=tf.float32))"
   ]
  },
  {
   "cell_type": "code",
   "execution_count": 5,
   "metadata": {},
   "outputs": [
    {
     "name": "stdout",
     "output_type": "stream",
     "text": [
      "0 0.61198956\n",
      "2000 0.5193974\n",
      "4000 0.50711024\n",
      "6000 0.49887094\n",
      "8000 0.49231666\n",
      "10000 0.48677832\n",
      "\n",
      "Hypothesis (sigmoid output)\n",
      "  [[0.57583797]\n",
      " [0.6307144 ]\n",
      " [0.64098793]\n",
      " [0.4206288 ]\n",
      " [0.5030209 ]\n",
      " [0.6060734 ]\n",
      " [0.3955904 ]\n",
      " [0.615806  ]] \n",
      "\n",
      "test_y_data [[1], [1], [0], [0], [1], [1], [0], [1]] \n",
      "\n",
      "Correct (predicted data)\n",
      "  [[1.]\n",
      " [1.]\n",
      " [1.]\n",
      " [0.]\n",
      " [1.]\n",
      " [1.]\n",
      " [0.]\n",
      " [1.]] \n",
      "\n",
      "Accuracy (정확도) :  0.875\n"
     ]
    }
   ],
   "source": [
    "with tf.Session() as sess:\n",
    "    sess.run(tf.global_variables_initializer())\n",
    "    \n",
    "    for step in range(10001):\n",
    "        cost_val, _ = sess.run([cost, train], feed_dict={X:x_data, Y:y_data})\n",
    "        if step % 2000 == 0:\n",
    "            print(step, cost_val)\n",
    "            \n",
    "#     h, c, a = sess.run([H, predicted, accuracy], feed_dict={X:x_data, Y:y_data})\n",
    "    h, c, a = sess.run([H,predicted, accuracy], feed_dict={X:test_x_data, Y:test_y_data})\n",
    "    print(\"\\nHypothesis (sigmoid output)\\n \", h, \"\\n\\ntest_y_data\", test_y_data, \"\\n\\nCorrect (predicted data)\\n \", c, \"\\n\\nAccuracy (정확도) : \", a)\n",
    "#     print(h, c, a)"
   ]
  },
  {
   "cell_type": "code",
   "execution_count": null,
   "metadata": {},
   "outputs": [],
   "source": []
  }
 ],
 "metadata": {
  "kernelspec": {
   "display_name": "Python 3",
   "language": "python",
   "name": "python3"
  },
  "language_info": {
   "codemirror_mode": {
    "name": "ipython",
    "version": 3
   },
   "file_extension": ".py",
   "mimetype": "text/x-python",
   "name": "python",
   "nbconvert_exporter": "python",
   "pygments_lexer": "ipython3",
   "version": "3.5.2"
  }
 },
 "nbformat": 4,
 "nbformat_minor": 2
}
