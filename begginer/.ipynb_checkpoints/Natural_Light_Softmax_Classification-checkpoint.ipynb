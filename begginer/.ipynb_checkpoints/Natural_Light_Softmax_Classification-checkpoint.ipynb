{
 "cells": [
  {
   "cell_type": "code",
   "execution_count": 1,
   "metadata": {},
   "outputs": [],
   "source": [
    "import tensorflow as tf\n",
    "tf.set_random_seed(777)\n",
    "import numpy as np\n",
    "import os\n",
    "from sklearn.preprocessing import MinMaxScaler"
   ]
  },
  {
   "cell_type": "code",
   "execution_count": 2,
   "metadata": {},
   "outputs": [
    {
     "name": "stdout",
     "output_type": "stream",
     "text": [
      "(88, 772)\n"
     ]
    }
   ],
   "source": [
    "# 색온도 데이터 가져오기\n",
    "# cct 배열에 저장\n",
    "\n",
    "import_data = np.loadtxt('./v5data/train_v5_data.csv', delimiter=',')\n",
    "import_cct = import_data[:, 0]\n",
    "\n",
    "cct = []\n",
    "\n",
    "for i in range(88):\n",
    "    cct.append(import_cct[i*772:(i+1)*772])\n",
    "    \n",
    "print(np.shape(cct))"
   ]
  },
  {
   "cell_type": "code",
   "execution_count": 3,
   "metadata": {},
   "outputs": [
    {
     "name": "stdout",
     "output_type": "stream",
     "text": [
      "88\n",
      "772\n",
      "(88, 5)\n",
      "-222\n"
     ]
    }
   ],
   "source": [
    "# 분별 색온도의 변화율 계산\n",
    "# delta_cct에 저장\n",
    "\n",
    "delta_cct = []\n",
    "\n",
    "print(len(cct))\n",
    "print(len(cct[0]))\n",
    "\n",
    "for i in range(len(cct)):\n",
    "    temp = []\n",
    "    for j in range(771):\n",
    "        temp.append((int)(cct[i][j+1] - cct[i][j]))\n",
    "    delta_cct.append(temp)\n",
    "    \n",
    "usedata = []\n",
    "\n",
    "scaler = MinMaxScaler(feature_range=(0, 10))\n",
    "    \n",
    "for i in range(len(delta_cct)):\n",
    "    temp = []\n",
    "    for j in range(5):\n",
    "        temp.append(delta_cct[i][154*j])\n",
    "    usedata.append(temp)\n",
    "\n",
    "train_data = scaler.fit_transform(usedata)\n",
    "    \n",
    "print(np.shape(usedata))\n",
    "print(usedata[0][0])"
   ]
  },
  {
   "cell_type": "code",
   "execution_count": 4,
   "metadata": {},
   "outputs": [],
   "source": [
    "# 학습시킬 색온도 데이터 분별하여 라벨링\n",
    "# x_data = 색온도 변화율 데이터\n",
    "# y_data = 흐린날, 맑은날 (0, 1)\n",
    "# 맑은날 8, 흐린날 8\n",
    "\n",
    "x_data = [train_data[8], train_data[19], train_data[42], train_data[54], train_data[57], train_data[66], train_data[78], train_data[83], train_data[11], train_data[16],\n",
    "         train_data[17], train_data[18], train_data[21], train_data[22], train_data[24], train_data[26]]\n",
    "y_data = [[1, 0],[1, 0],[1, 0],[1, 0],[1, 0],[1, 0],[1, 0],[1, 0],[0, 1],[0, 1],[0, 1],[0, 1],[0, 1],[0, 1],[0, 1],[0, 1]]\n",
    "# x_data = [[-1, 4, -7, -5, -14], [-60, 13, 2, 18, -9], [-38, 14, 6, 10, -12], [-21, 692, 652, 1, -4]]\n",
    "# y_data= [[1], [1],  [0], [0]]\n",
    "\n",
    "# x_data = [train_data[8], train_data[19], train_data[17], train_data[18]]\n",
    "# y_data = [[1, 0], [1, 0], [0, 1], [0, 1]]\n",
    "\n",
    "X = tf.placeholder(tf.float32, shape=[None, 5])\n",
    "Y = tf.placeholder(tf.float32, shape=[None, 2])\n",
    "\n",
    "nb_classes = 2\n",
    "\n",
    "W = tf.Variable(tf.random_normal([5, 2]), name='weight')\n",
    "b = tf.Variable(tf.random_normal([2]), name='bias')\n",
    "\n",
    "H = tf.nn.softmax(tf.matmul(X, W) + b)\n",
    "\n",
    "cost = tf.reduce_mean(-tf.reduce_sum(Y * tf.log(H), axis=1))\n",
    "\n",
    "optimizer = tf.train.GradientDescentOptimizer(learning_rate = 0.01).minimize(cost)"
   ]
  },
  {
   "cell_type": "code",
   "execution_count": 5,
   "metadata": {},
   "outputs": [
    {
     "name": "stdout",
     "output_type": "stream",
     "text": [
      "0 3.7575526\n",
      "200 0.7452184\n",
      "400 0.7068684\n",
      "600 0.6725551\n",
      "800 0.6439327\n",
      "1000 0.62198323\n",
      "1200 0.60555243\n",
      "1400 0.5923871\n",
      "1600 0.581086\n",
      "1800 0.5711076\n",
      "2000 0.5622251\n",
      "-------------------------------------------------\n",
      "[[0.54460496 0.45539504]] [0]\n",
      "-------------------------------------------------\n"
     ]
    }
   ],
   "source": [
    "with tf.Session() as sess:\n",
    "    sess.run(tf.global_variables_initializer())\n",
    "    \n",
    "    for step in range(2001):\n",
    "        sess.run(optimizer, feed_dict = {X:x_data, Y:y_data})\n",
    "        if step % 200 == 0:\n",
    "            print(step, sess.run(cost, feed_dict={X:x_data, Y:y_data}))\n",
    "    \n",
    "    print('-------------------------------------------------')\n",
    "    \n",
    "    a = sess.run(H, feed_dict={X:[train_data[10]]})\n",
    "    print(a, sess.run(tf.argmax(a, 1)))\n",
    "    \n",
    "    print('-------------------------------------------------')"
   ]
  }
 ],
 "metadata": {
  "kernelspec": {
   "display_name": "Python 3",
   "language": "python",
   "name": "python3"
  },
  "language_info": {
   "codemirror_mode": {
    "name": "ipython",
    "version": 3
   },
   "file_extension": ".py",
   "mimetype": "text/x-python",
   "name": "python",
   "nbconvert_exporter": "python",
   "pygments_lexer": "ipython3",
   "version": "3.5.2"
  }
 },
 "nbformat": 4,
 "nbformat_minor": 2
}
