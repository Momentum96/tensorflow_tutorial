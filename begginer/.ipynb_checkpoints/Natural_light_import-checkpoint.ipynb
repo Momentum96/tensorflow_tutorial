{
 "cells": [
  {
   "cell_type": "code",
   "execution_count": 1,
   "metadata": {},
   "outputs": [],
   "source": [
    "import csv\n",
    "import numpy as np\n",
    "import os\n"
   ]
  },
  {
   "cell_type": "code",
   "execution_count": 2,
   "metadata": {},
   "outputs": [],
   "source": [
    "path_dir = './classification_v3/data/'\n",
    "file_list = os.listdir(path_dir)\n",
    "file_list.sort()\n",
    "\n",
    "start = 0\n",
    "\n",
    "w = open('classification_v3_data.csv', 'w', encoding='utf-8')\n",
    "wr = csv.writer(w)\n",
    "\n",
    "for i in range(len(file_list)):\n",
    "    f = np.genfromtxt('./classification_v3/data/' + file_list[i], delimiter=',', dtype='str')\n",
    "    for j in range(len(f)):\n",
    "        if(f[j][0] == '06:00:00'):\n",
    "            start = j\n",
    "            break;\n",
    "        if(f[j][0] == '06:01:00'):\n",
    "            start = j\n",
    "            break;\n",
    "\n",
    "    for j in range(start, start+772):\n",
    "        row = f[j][2]\n",
    "        wr.writerow([row])\n",
    "\n",
    "w.close();"
   ]
  },
  {
   "cell_type": "code",
   "execution_count": null,
   "metadata": {},
   "outputs": [],
   "source": []
  }
 ],
 "metadata": {
  "kernelspec": {
   "display_name": "Python 3",
   "language": "python",
   "name": "python3"
  },
  "language_info": {
   "codemirror_mode": {
    "name": "ipython",
    "version": 3
   },
   "file_extension": ".py",
   "mimetype": "text/x-python",
   "name": "python",
   "nbconvert_exporter": "python",
   "pygments_lexer": "ipython3",
   "version": "3.5.2"
  }
 },
 "nbformat": 4,
 "nbformat_minor": 2
}
