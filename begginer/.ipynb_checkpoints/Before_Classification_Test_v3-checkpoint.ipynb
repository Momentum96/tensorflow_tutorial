{
 "cells": [
  {
   "cell_type": "code",
   "execution_count": 1,
   "metadata": {},
   "outputs": [],
   "source": [
    "# Classification을 위한 기준 확립\n",
    "# 자연광 데이터의 시간에 따른 변화율 확인 후 그 틀에서 벗어나고 벗어나지 않음에 따라 결정\n",
    "%matplotlib tk\n",
    "\n",
    "import numpy as np\n",
    "import matplotlib as mpl\n",
    "import matplotlib.pyplot as plt\n",
    "import matplotlib.font_manager as fm\n",
    "import os\n",
    "import sys\n",
    "\n",
    "mpl.rcParams['axes.unicode_minus'] = False\n",
    "\n",
    "if \"DISPLAY\" not in  os.environ:\n",
    "    matplotlib.use('Agg')"
   ]
  },
  {
   "cell_type": "code",
   "execution_count": 2,
   "metadata": {},
   "outputs": [
    {
     "name": "stdout",
     "output_type": "stream",
     "text": [
      "(14,)\n",
      "(88, 772)\n"
     ]
    }
   ],
   "source": [
    "# raw data 가져오고 y라는 배열 내에 저장 후 확인차 출력\n",
    "\n",
    "# import_y = np.loadtxt('./classification_v2/ForClassification_v2.csv', delimiter=',')\n",
    "import_y = np.loadtxt('./classification_v3/classification_v3_data.csv', delimiter=',')\n",
    "date = np.genfromtxt('./classification_v2/date.csv', delimiter=',', dtype='str')\n",
    "# date = np.genfromtxt('./classification_v2/date_test.csv', delimiter=',', dtype='str')\n",
    "\n",
    "y = []\n",
    "for cnt in range((int)(len(import_y) / 772)):\n",
    "    temp = []\n",
    "    for i in range(772):\n",
    "        temp.append(import_y[i+772*cnt])\n",
    "    y.append(temp)\n",
    "\n",
    "print(np.shape(date))\n",
    "print(np.shape(y))"
   ]
  },
  {
   "cell_type": "code",
   "execution_count": 3,
   "metadata": {},
   "outputs": [
    {
     "name": "stdout",
     "output_type": "stream",
     "text": [
      "(88, 771)\n"
     ]
    }
   ],
   "source": [
    "# 변화량을 알아보기 위해 두 데이터의 차를 delta_y에 저장 및 확인 차 출력\n",
    "\n",
    "delta_y = []\n",
    "for cnt in range((int)(len(import_y) / 772)):\n",
    "    temp = []\n",
    "    for i in range(len(y[0])-1):\n",
    "        temp.append(y[cnt][i+1] - y[cnt][i])\n",
    "    delta_y.append(temp)\n",
    "    \n",
    "print(np.shape(delta_y))"
   ]
  },
  {
   "cell_type": "code",
   "execution_count": 4,
   "metadata": {},
   "outputs": [
    {
     "name": "stdout",
     "output_type": "stream",
     "text": [
      "2018-04-19 file saved.\n",
      "2018-04-21 file saved.\n",
      "2018-04-26 file saved.\n",
      "2018-04-27 file saved.\n",
      "2018-04-28 file saved.\n",
      "2018-04-29 file saved.\n",
      "2018-04-30 file saved.\n",
      "2018-05-04 file saved.\n",
      "2018-05-05 file saved.\n",
      "2018-05-08 file saved.\n",
      "2018-05-10 file saved.\n",
      "2018-05-14 file saved.\n",
      "2018-05-19 file saved.\n",
      "2018-05-21 file saved.\n"
     ]
    },
    {
     "ename": "IndexError",
     "evalue": "index 14 is out of bounds for axis 0 with size 14",
     "output_type": "error",
     "traceback": [
      "\u001b[0;31m---------------------------------------------------------------------------\u001b[0m",
      "\u001b[0;31mIndexError\u001b[0m                                Traceback (most recent call last)",
      "\u001b[0;32m<ipython-input-4-306d986d9160>\u001b[0m in \u001b[0;36m<module>\u001b[0;34m()\u001b[0m\n\u001b[1;32m     30\u001b[0m \u001b[0;34m\u001b[0m\u001b[0m\n\u001b[1;32m     31\u001b[0m     \u001b[0;31m# fig.suptitle('2017-04-21', fontsize=20)\u001b[0m\u001b[0;34m\u001b[0m\u001b[0;34m\u001b[0m\u001b[0m\n\u001b[0;32m---> 32\u001b[0;31m     \u001b[0mfig\u001b[0m\u001b[0;34m.\u001b[0m\u001b[0msuptitle\u001b[0m\u001b[0;34m(\u001b[0m\u001b[0mstr\u001b[0m\u001b[0;34m(\u001b[0m\u001b[0mdate\u001b[0m\u001b[0;34m[\u001b[0m\u001b[0mi\u001b[0m\u001b[0;34m]\u001b[0m\u001b[0;34m)\u001b[0m\u001b[0;34m,\u001b[0m \u001b[0mfontsize\u001b[0m\u001b[0;34m=\u001b[0m\u001b[0;36m20\u001b[0m\u001b[0;34m)\u001b[0m\u001b[0;34m\u001b[0m\u001b[0m\n\u001b[0m\u001b[1;32m     33\u001b[0m \u001b[0;31m#     fig.suptitle(str(date[0]), fontsize=20)\u001b[0m\u001b[0;34m\u001b[0m\u001b[0;34m\u001b[0m\u001b[0m\n\u001b[1;32m     34\u001b[0m \u001b[0;34m\u001b[0m\u001b[0m\n",
      "\u001b[0;31mIndexError\u001b[0m: index 14 is out of bounds for axis 0 with size 14"
     ]
    }
   ],
   "source": [
    "plt.rcParams['font.family'] = 'NanumGothicCoding'\n",
    "plt.rcParams['font.size'] = 10\n",
    "\n",
    "for i in range (88):\n",
    "    fig = plt.figure()\n",
    "    y_data = fig.add_subplot(2, 1, 1)\n",
    "    delta_y_data = fig.add_subplot(2, 1, 2)\n",
    "\n",
    "    # 선\n",
    "    # y_data.plot(y, 'r')\n",
    "    delta_y_data.plot(delta_y[i], 'g')\n",
    "#     delta_y_data.plot(delta_y[0], 'g')\n",
    "    delta_y_data.set_xticks(np.arange(0, 771, step = 59))\n",
    "    delta_y_data.set_xticklabels(['6', '7', '8', '9', '10', '11', '12', '1', '2', '3', '4', '5', '6', '7'])\n",
    "\n",
    "    # 점\n",
    "    x = np.arange(1, 773)\n",
    "    y_data.scatter(x, y[i], s = 2, c = 'r')\n",
    "#     y_data.scatter(x, y[0], s = 2, c = 'r')\n",
    "    y_data.set_xticks(np.arange(0, 772, step = 59))\n",
    "    y_data.set_xticklabels(['6', '7', '8', '9', '10', '11', '12', '1', '2', '3', '4', '5', '6', '7'])\n",
    "\n",
    "    # x = np.arange(1, 772)\n",
    "    # delta_y_data.scatter(x, delta_y,s = 2, c = 'g')\n",
    "\n",
    "    y_data.set_title('UVI')\n",
    "\n",
    "    y_data.grid(True)\n",
    "    delta_y_data.grid(True)\n",
    "\n",
    "    # fig.suptitle('2017-04-21', fontsize=20)\n",
    "    fig.suptitle(str(date[i]), fontsize=20)\n",
    "#     fig.suptitle(str(date[0]), fontsize=20)\n",
    "\n",
    "    delta_y_data.set_xlabel('time')\n",
    "\n",
    "    y_data.set_ylabel('CAS_SWR')\n",
    "    delta_y_data.set_ylabel('y2 - y1')\n",
    "\n",
    "    # plt.show()\n",
    "\n",
    "    fig = plt.gcf()\n",
    "    fig.savefig('../../사진/자연광 데이터 분류 표본/기준 찾기/CAS_SWR/' + str(date[i]) + '.png')\n",
    "    plt.close(fig)\n",
    "\n",
    "    print(str(date[i]) + \" file saved.\")\n",
    "\n",
    "print(str(len(date)) + \" data saved.\")"
   ]
  }
 ],
 "metadata": {
  "kernelspec": {
   "display_name": "Python 3",
   "language": "python",
   "name": "python3"
  },
  "language_info": {
   "codemirror_mode": {
    "name": "ipython",
    "version": 3
   },
   "file_extension": ".py",
   "mimetype": "text/x-python",
   "name": "python",
   "nbconvert_exporter": "python",
   "pygments_lexer": "ipython3",
   "version": "3.5.2"
  }
 },
 "nbformat": 4,
 "nbformat_minor": 2
}
